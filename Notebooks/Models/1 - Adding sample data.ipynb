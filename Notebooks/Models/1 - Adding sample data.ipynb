{
 "cells": [
  {
   "cell_type": "markdown",
   "id": "88a91798-056e-4083-bf85-38cd6d8ac9bd",
   "metadata": {},
   "source": [
    "# Adding data to sample model"
   ]
  },
  {
   "cell_type": "code",
   "execution_count": 1,
   "id": "73bf7334-8eb0-4a4c-bd30-378d02157012",
   "metadata": {},
   "outputs": [],
   "source": [
    "import sentier_data_tools as sdt\n",
    "import pandas as pd\n",
    "from loguru import logger"
   ]
  },
  {
   "cell_type": "code",
   "execution_count": 2,
   "id": "05d99652-3da0-421c-853d-eca091cd783f",
   "metadata": {},
   "outputs": [],
   "source": [
    "sdt.reset_local_database()"
   ]
  },
  {
   "cell_type": "code",
   "execution_count": 3,
   "id": "841648b5-3001-40e5-88e0-9ca75dea5fc5",
   "metadata": {},
   "outputs": [],
   "source": [
    "df = pd.read_excel(\n",
    "    sdt.example_data_dir / \"electrolyzers.xlsx\"\n",
    ")"
   ]
  },
  {
   "cell_type": "code",
   "execution_count": 4,
   "id": "0cbb048f-3f83-4e3e-b4ea-12df5795497e",
   "metadata": {},
   "outputs": [],
   "source": [
    "columns = [\n",
    "    \"https://vocab.sentier.dev/model-terms/generic/company\",\n",
    "    \"https://vocab.sentier.dev/model-terms/generic/product\",\n",
    "    \"https://vocab.sentier.dev/model-terms/energy/min_power_cons\",\n",
    "    \"https://vocab.sentier.dev/model-terms/energy/nom_power_cons\",\n",
    "    \"https://vocab.sentier.dev/model-terms/energy/max_power_cons\",\n",
    "    \"https://vocab.sentier.dev/model-terms/energy/input_voltage\",\n",
    "    \"https://vocab.sentier.dev/model-terms/generic/footprint_area\",\n",
    "    \"https://vocab.sentier.dev/model-terms/generic/availability\",\n",
    "    \"https://vocab.sentier.dev/model-terms/electrolyzer/min_amb_temp\",\n",
    "    \"https://vocab.sentier.dev/model-terms/electrolyzer/max_amb_temp\",\n",
    "    \"https://vocab.sentier.dev/model-terms/energy/elec_energy_serv_dem\",\n",
    "    \"https://vocab.sentier.dev/model-terms/energy/therm_energy_serv_dem\",\n",
    "    \"https://vocab.sentier.dev/model-terms/energy/therm_energy_conv_eff\",\n",
    "    \"https://vocab.sentier.dev/model-terms/electrolyzer/temp_useful_heat\",\n",
    "    \"https://vocab.sentier.dev/model-terms/energy/energy_conv_eff_lhv\",\n",
    "    \"http://openenergy-platform.org/ontology/oeo/OEO_00140049\",\n",
    "    \"https://vocab.sentier.dev/model-terms/electrolyzer/min_stack_temp\",\n",
    "    \"https://vocab.sentier.dev/model-terms/electrolyzer/max_stack_temp\",\n",
    "    \"https://vocab.sentier.dev/model-terms/electrolyzer/max_water_conduc\",\n",
    "    \"https://vocab.sentier.dev/model-terms/electrolyser/max_stack_lifetime\",\n",
    "    \"https://vocab.sentier.dev/model-terms/electrolyser/h2_quality\",\n",
    "    \"https://vocab.sentier.dev/model-terms/electrolyser/h2_pressure\",\n",
    "    \"https://vocab.sentier.dev/model-terms/generic/mass_prod_rate\",\n",
    "]\n",
    "\n",
    "units = [\n",
    "    'https://www.w3.org/2001/XMLSchema#string',\n",
    "    'https://www.w3.org/2001/XMLSchema#string',\n",
    "    'https://vocab.sentier.dev/units/unit/KiloW',\n",
    "    'https://vocab.sentier.dev/units/unit/KiloW',\n",
    "    'https://vocab.sentier.dev/units/unit/KiloW',\n",
    "    'https://vocab.sentier.dev/units/unit/V',\n",
    "    'https://vocab.sentier.dev/units/unit/M2',\n",
    "    'https://vocab.sentier.dev/units/unit/FRACTION',\n",
    "    'https://vocab.sentier.dev/units/unit/DEG_C',\n",
    "    'https://vocab.sentier.dev/units/unit/DEG_C',\n",
    "    'https://vocab.sentier.dev/units/unit/KiloW-HR-PER-KiloGM',\n",
    "    'https://vocab.sentier.dev/units/unit/MegaJ-PER-KiloGM',\n",
    "    'https://vocab.sentier.dev/units/unit/FRACTION',\n",
    "    'https://vocab.sentier.dev/units/unit/DEG_C',\n",
    "    'https://vocab.sentier.dev/units/unit/PERCENT',\n",
    "    'https://vocab.sentier.dev/units/unit/PERCENT',\n",
    "    'https://vocab.sentier.dev/units/unit/DEG_C',\n",
    "    'https://vocab.sentier.dev/units/unit/DEG_C',\n",
    "    'https://vocab.sentier.dev/units/unit/MicroS-PER-CentiM',\n",
    "    'https://vocab.sentier.dev/units/unit/HR',\n",
    "    'https://vocab.sentier.dev/units/unit/NUM',\n",
    "    'https://vocab.sentier.dev/units/unit/PA',\n",
    "    'https://vocab.sentier.dev/units/unit/KiloGM-PER-HR',\n",
    "]\n",
    "\n",
    "assert len(columns) == len(units)\n",
    "assert len(columns) == len(df.columns) - 1"
   ]
  },
  {
   "cell_type": "code",
   "execution_count": 5,
   "id": "5de86b8c-b782-4a2e-b4bf-37aa7b929c67",
   "metadata": {},
   "outputs": [],
   "source": [
    "metadata = sdt.DatapackageWriter(\n",
    "    name=\"electrolyzer_data_from_premise_04_2024\",\n",
    "    description=\"Electrolyzer operational in inventory data taken from https://github.com/polca/premise/tree/master/premise/data/additional_inventories in April 2024.\",\n",
    "    contributors=[\n",
    "        {\"title\": \"Karin Treyer\", \"path\": \"https://www.psi.ch/en/ta/people/karin-treyer\", \"role\": \"author\"},\n",
    "        {\"title\": \"Chris Mutel\", \"path\": \"https://chris.mutel.org/\", \"role\": \"wrangler\"}\n",
    "    ],\n",
    "    homepage=\"https://github.com/polca/premise/tree/master/premise/data/additional_inventories\",\n",
    ").metadata()\n",
    "_ = metadata.pop(\"version\")"
   ]
  },
  {
   "cell_type": "code",
   "execution_count": 6,
   "id": "e534c1af-0e16-4404-b9cb-2d55b2d9b33c",
   "metadata": {},
   "outputs": [],
   "source": [
    "datapackage = sdt.Datapackage(\n",
    "    name=\"electrolyzer_data\",\n",
    "    metadata=metadata,\n",
    "    version=1\n",
    ").save()"
   ]
  },
  {
   "cell_type": "code",
   "execution_count": 7,
   "id": "fc875901-a1de-46b4-b188-a633aec6f8cb",
   "metadata": {},
   "outputs": [
    {
     "name": "stderr",
     "output_type": "stream",
     "text": [
      "\u001b[32m2024-10-08 07:59:35.685\u001b[0m | \u001b[1mINFO    \u001b[0m | \u001b[36m__main__\u001b[0m:\u001b[36m<module>\u001b[0m:\u001b[36m9\u001b[0m - \u001b[1mAdding 54 records for type PEM\u001b[0m\n",
      "\u001b[32m2024-10-08 07:59:35.705\u001b[0m | \u001b[1mINFO    \u001b[0m | \u001b[36m__main__\u001b[0m:\u001b[36m<module>\u001b[0m:\u001b[36m9\u001b[0m - \u001b[1mAdding 36 records for type AEC\u001b[0m\n",
      "\u001b[32m2024-10-08 07:59:35.709\u001b[0m | \u001b[1mINFO    \u001b[0m | \u001b[36m__main__\u001b[0m:\u001b[36m<module>\u001b[0m:\u001b[36m9\u001b[0m - \u001b[1mAdding 3 records for type SOEC\u001b[0m\n"
     ]
    }
   ],
   "source": [
    "TYPES = [\n",
    "    (\"PEM\", \"https://vocab.sentier.dev/products/en/page/pem-electrolyzer\"),\n",
    "    (\"AEC\", \"https://vocab.sentier.dev/products/aec-electrolyzer\"),\n",
    "    (\"SOEC\", \"https://vocab.sentier.dev/products/soel-electrolyzer\"),\n",
    "]\n",
    "\n",
    "for kind, iri in TYPES:\n",
    "    filtered = df[df['Electrolysis type'] == kind].copy()\n",
    "    logger.info(\"Adding {} records for type {}\", len(filtered), kind)\n",
    "    filtered.drop(labels=['Electrolysis type'], axis='columns', inplace=True)\n",
    "    filtered.columns = columns\n",
    "    \n",
    "    record = sdt.Record(\n",
    "        data=filtered,\n",
    "        product=iri,\n",
    "        columns=columns,\n",
    "        units=units,\n",
    "        datapackage=datapackage\n",
    "    ).save()"
   ]
  },
  {
   "cell_type": "code",
   "execution_count": 9,
   "id": "ac932a5b-5108-4e21-aebb-309ff51c531b",
   "metadata": {},
   "outputs": [],
   "source": [
    "LIFETIMES = {\n",
    "    \"https://vocab.sentier.dev/products/en/page/pem-electrolyzer\": 20,\n",
    "    \"https://vocab.sentier.dev/products/aec-electrolyzer\": 27.5,\n",
    "    \"https://vocab.sentier.dev/products/soel-electrolyzer\": 20,\n",
    "}\n",
    "\n",
    "for key, value in LIFETIMES.items():\n",
    "    record = sdt.Record(\n",
    "        data=pd.DataFrame([{key: value}]),\n",
    "        product=key,\n",
    "        columns=[key],\n",
    "        units=[\"https://vocab.sentier.dev/units/unit/YR\"],\n",
    "        datapackage=datapackage\n",
    "    ).save()"
   ]
  },
  {
   "cell_type": "code",
   "execution_count": null,
   "id": "df6cb758-278f-484e-9869-be05f0e29e7a",
   "metadata": {},
   "outputs": [],
   "source": []
  }
 ],
 "metadata": {
  "kernelspec": {
   "display_name": "Python 3 (ipykernel)",
   "language": "python",
   "name": "python3"
  },
  "language_info": {
   "codemirror_mode": {
    "name": "ipython",
    "version": 3
   },
   "file_extension": ".py",
   "mimetype": "text/x-python",
   "name": "python",
   "nbconvert_exporter": "python",
   "pygments_lexer": "ipython3",
   "version": "3.12.4"
  }
 },
 "nbformat": 4,
 "nbformat_minor": 5
}
