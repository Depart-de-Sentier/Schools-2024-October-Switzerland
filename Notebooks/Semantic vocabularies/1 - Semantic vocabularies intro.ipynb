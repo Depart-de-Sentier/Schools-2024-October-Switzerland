{
 "cells": [
  {
   "cell_type": "markdown",
   "id": "b709c66b-2a25-495e-86cc-caeee213327e",
   "metadata": {},
   "source": [
    "# Semantic Vocabularies\n",
    "\n",
    "## What is the semantic web?\n",
    "\n",
    "Everything and nothing... many things to many people. For our purposes, the semantic web is:\n",
    "\n",
    "* A set of file formats (turtle: `.ttl`, RDF: `.xml`)\n",
    "* A way to describe data which is both *flexible* and *strictly-defined*\n",
    "* A way to have data linked across databases and the web (decentralized knowledge)\n",
    "\n",
    "The semantic web desribes data in graphs. Graphs have nodes (aka vertices) and edges. You can think of the nodes as nouns and the edges as verbs, though this doesn't always align perfectly with real data. Here is an example:\n",
    "\n",
    "The unit `kilogram` (node) belongs to (verb) the quantity kind `Mass` (noun).\n",
    "\n",
    "The semantic web desribes data in *directed* graphs - the edges only go one way. This means that `Mass` doesn't belong to `kilogram`. To indicate the direction, we refer to the noun / edge / noun as a *triple* with a *subject*, *predicate*, and *object*.\n",
    "\n",
    "* Subject: `kilogram`\n",
    "* Predicate: `belongs to`\n",
    "* Object: `mass`\n",
    "\n",
    "## URIs and IRIs\n",
    "\n",
    "We want to have *single, unambiguous, and resolvable* identifiers for nodes in our graph. We do that with an [IRI](https://en.wikipedia.org/wiki/Internationalized_Resource_Identifier) - a fancy way of saying a URL. So instead of `kilogram` or `mass`, we would have:\n",
    "\n",
    "* Subject: `https://vocab.sentier.dev/qudt/unit/KiloGM`\n",
    "* Predicate: `belongs to`\n",
    "* Object: `https://vocab.sentier.dev/qudt/quantity-kind/Mass`\n",
    "\n",
    "## Ontologies\n",
    "\n",
    "What about our verbs? And what types of nouns are allowed to be related to other nouns? An ontology defines *what kinds* of relationships and nouns are allowed in the way that we are organizing knowledge.\n",
    "\n",
    "Ontologies can get philispohical and a bit difficult for non-experts to understand rather quickly, see e.g. [EMMO](https://github.com/emmo-repo/EMMO).\n",
    "\n",
    "We are using SKOS - Simple Knowledge Organization System - as our main ontology in the Sentier.dev vocabulary. Here is the [SKOS Core Guide](https://www.w3.org/TR/2005/WD-swbp-skos-core-guide-20051102/).\n",
    "\n",
    "SKOS is organized around [concepts](https://www.w3.org/TR/2005/WD-swbp-skos-core-guide-20051102/#secconcept). Let's take the example they give for `love` and translate it to `.ttl`:"
   ]
  },
  {
   "cell_type": "code",
   "execution_count": 1,
   "id": "29e55246-f8bc-493c-b135-1a23088207bd",
   "metadata": {},
   "outputs": [],
   "source": [
    "from rdflib import Graph\n",
    "from io import StringIO"
   ]
  },
  {
   "cell_type": "code",
   "execution_count": 2,
   "id": "99166a0d-4200-4145-90ea-10b96277b6c0",
   "metadata": {},
   "outputs": [
    {
     "name": "stdout",
     "output_type": "stream",
     "text": [
      "@prefix skos: <http://www.w3.org/2004/02/skos/core#> .\n",
      "\n",
      "<http://www.example.com/concepts#love> a skos:Concept .\n",
      "\n",
      "\n"
     ]
    }
   ],
   "source": [
    "love_in_xml = StringIO(\"\"\"<rdf:RDF \n",
    "  xmlns:rdf=\"http://www.w3.org/1999/02/22-rdf-syntax-ns#\"\n",
    "  xmlns:skos=\"http://www.w3.org/2004/02/skos/core#\">\n",
    "\n",
    "  <skos:Concept rdf:about=\"http://www.example.com/concepts#love\"/>\n",
    "  \n",
    "</rdf:RDF>\"\"\")\n",
    "\n",
    "graph = Graph().parse(love_in_xml, format=\"xml\")\n",
    "print(graph.serialize())"
   ]
  },
  {
   "cell_type": "markdown",
   "id": "d6edc26d-731b-4454-befd-f2953f734908",
   "metadata": {},
   "source": [
    "This is exactly the form we expect - subject (`<http://www.example.com/concepts#love>`) is `a` (predicate) `http://www.w3.org/2004/02/skos/core#Concept` (object).\n",
    "\n",
    "You notice that the serialization created a `@prefix` of `skos`: This allows us to write `skos:Concept` instead of the full `http://www.w3.org/2004/02/skos/core#Concept`.\n",
    "\n",
    "In `.ttl`, and in the query language [sparql](https://en.wikipedia.org/wiki/SPARQL), IRIs are escaped with `<` and `>`, like `<http://www.example.com/concepts#love>`.\n",
    "\n",
    "Turtle (`.ttl`) sometimes uses common abbreviations for terms which are more explicit in XML. For example, in turtle we can write `a`, but this actually means `http://www.w3.org/1999/02/22-rdf-syntax-ns#about`. `http://www.w3.org/1999/02/22-rdf-syntax-ns#about` isn't part of the *SKOS* ontology, it is part of the foundational `RDF` ontology. This **is important** - we can integrate ontologies to create the best way to describe our systems.\n",
    "\n",
    "Here is how we would write the same triple about love using `rdflib` in Python:"
   ]
  },
  {
   "cell_type": "code",
   "execution_count": 3,
   "id": "5b44d9e8-b850-44d6-bd61-09e72563c9f4",
   "metadata": {},
   "outputs": [],
   "source": [
    "from rdflib import URIRef\n",
    "from rdflib.namespace import RDF, SKOS"
   ]
  },
  {
   "cell_type": "code",
   "execution_count": 4,
   "id": "c56e3a37-8292-4d4e-a9e9-d1f407282949",
   "metadata": {},
   "outputs": [
    {
     "name": "stdout",
     "output_type": "stream",
     "text": [
      "@prefix skos: <http://www.w3.org/2004/02/skos/core#> .\n",
      "\n",
      "<http://www.example.com/concepts#love> a skos:Concept .\n",
      "\n",
      "\n"
     ]
    }
   ],
   "source": [
    "feelings = Graph()\n",
    "feelings.add((\n",
    "    URIRef(\"http://www.example.com/concepts#love\"), # Subject\n",
    "    RDF.type,\n",
    "    SKOS.Concept\n",
    "))\n",
    "print(feelings.serialize())"
   ]
  },
  {
   "cell_type": "markdown",
   "id": "16d9dfae-f72e-42c8-aa31-4b122582d17c",
   "metadata": {},
   "source": [
    "*(Why is it `RDF.type` and not `RDF.about`? Sometimes it's just like that...)*\n",
    "\n",
    "## SKOS nodes and edges\n",
    "\n",
    "The SKOS Core Guide does a pretty good of describing the following, so just look them up there:\n",
    "\n",
    "* Concept\n",
    "* ConceptScheme\n",
    "* prefLabel\n",
    "* altLabel\n",
    "* notation\n",
    "* note and its child properties\n",
    "* broader\n",
    "* narrower\n",
    "* related\n",
    "\n",
    "## Creating graphs\n",
    "\n",
    "1. Use a tool like `rdflib` (but note that you can write `.ttl` manually - it's not that hard, really! See e.g. https://github.com/sentier-dev/sentier_vocab/blob/main/sentier_vocab/data/simapro.ttl, this was written by hand).\n",
    "2. Create a `Graph` object\n",
    "3. Uses namespaces to make your code easier to read, and quicker to type\n",
    "4. Add triples with `.add((subject, predicate, object))`.\n",
    "5. The datatypes of the subject, predicate, and object should all be `URIRef` or `Literal`:"
   ]
  },
  {
   "cell_type": "code",
   "execution_count": 5,
   "id": "253d0c83-2f34-485f-8228-8f517f2ff443",
   "metadata": {},
   "outputs": [
    {
     "data": {
      "text/plain": [
       "(rdflib.term.Literal('Hello world'),\n",
       " rdflib.term.Literal('Hoi Zäme', lang='de-ch'),\n",
       " rdflib.term.Literal('39', datatype=rdflib.term.URIRef('http://www.w3.org/2001/XMLSchema#integer')))"
      ]
     },
     "execution_count": 5,
     "metadata": {},
     "output_type": "execute_result"
    }
   ],
   "source": [
    "from rdflib import Literal\n",
    "from rdflib.namespace import XSD\n",
    "\n",
    "Literal(\"Hello world\"), Literal(\"Hoi Zäme\", lang=\"de-ch\"), Literal(39, datatype=XSD.integer)"
   ]
  },
  {
   "cell_type": "markdown",
   "id": "0d1400aa-20e5-459d-99d5-46a338c60df8",
   "metadata": {},
   "source": [
    "Here is part of the graph for kilogram from [vocab.sentier.dev](). Let's see how much we can understand:\n",
    "\n",
    "```ttl\n",
    "@prefix skos: <http://www.w3.org/2004/02/skos/core#> .\n",
    "@prefix ns0: <http://qudt.org/schema/qudt/> .\n",
    "@prefix qudt: <https://vocab.sentier.dev/qudt/> .\n",
    "@prefix xsd: <http://www.w3.org/2001/XMLSchema#> .\n",
    "@prefix rdf: <http://www.w3.org/1999/02/22-rdf-syntax-ns#> .\n",
    "\n",
    "qudt:\n",
    "  skos:prefLabel \"QUDT Schema - Version 2.1.42\"@en ;\n",
    "  a skos:ConceptScheme .\n",
    "\n",
    "<https://vocab.sentier.dev/qudt/unit/LunarMass>\n",
    "  skos:notation \"M☾\"^^ns0:symbol ;\n",
    "  skos:prefLabel \"Lunar mass\"@en ;\n",
    "  a skos:Concept ;\n",
    "  skos:broaderTransitive <https://vocab.sentier.dev/qudt/unit/KiloGM> ;\n",
    "  skos:broader <https://vocab.sentier.dev/qudt/unit/KiloGM> .\n",
    "\n",
    "<https://vocab.sentier.dev/qudt/unit/KiloGM>\n",
    "  ns0:hasQuantityKind <https://vocab.sentier.dev/qudt/quantity-kind/Mass> ;\n",
    "  skos:narrower <https://vocab.sentier.dev/qudt/unit/LunarMass> ;\n",
    "  ns0:conversionMultiplierSN 1.000000e+0 ;\n",
    "  ns0:conversionMultiplier 1.0 ;\n",
    "  skos:prefLabel \"كيلوغرام\"@ar, \"キログラム\"@ja, \"quilograma\"@pt, \"kilogramo\"@es, \"کیلوگرم\"@fa, \"χιλιόγραμμο\"@el, \"kilogram\"@tr, \"kilogram\"@sl, \"kilogram\"@ro, \"kilogram\"@pl, \"kilogram\"@ms, \"kilogram\"@en, \"kilogram\"@cs, \"किलोग्राम\"@hi, \"килограмм\"@ru, \"קילוגרם\"@he, \"kilogramm*\"@hu, \"公斤\"@zh, \"килограм\"@bg, \"kilogramme\"@fr, \"chilogrammo\"@it, \"Kilogramm\"@de, \"chiliogramma\"@la ;\n",
    "  skos:notation \"KGM\"^^ns0:uneceCommonCode, \"kg\"^^ns0:symbol, \"0112/2///62720#UAD720\"^^ns0:iec61360Code, \"kg\"^^ns0:ucumCode, \"0112/2///62720#UAA594\"^^ns0:iec61360Code ;\n",
    "  skos:note \"The kilogram or kilogramme (SI symbol: kg), also known as the kilo, is the base unit of mass in the International System of Units and is defined as being equal to the mass of the International Prototype Kilogram (IPK), which is almost exactly equal to the mass of one liter of water. The avoirdupois (or international) pound, used in both the Imperial system and U.S. customary units, is defined as exactly 0.45359237 kg, making one kilogram approximately equal to 2.2046 avoirdupois pounds.\" ;\n",
    "  skos:exactMatch <https://glossary.ecoinvent.org/ids/487df68b-4994-4027-8fdc-a4dc298257b7>, <https://vocab.sentier.dev/simapro/unit/kg>, <http://qudt.org/vocab/unit/KiloGM>, <https://si-digital-framework.org/SI/units/kilogram> ;\n",
    "  skos:related \"http://dbpedia.org/resource/Kilogram\"^^xsd:anyURI ;\n",
    "  skos:broaderTransitive <https://vocab.sentier.dev/qudt/quantity-kind/Mass> ;\n",
    "  a skos:Concept ;\n",
    "  ns0:informativeReference \"http://en.wikipedia.org/wiki/Kilogram?oldid=493633626\"^^xsd:anyURI ;\n",
    "  skos:inScheme qudt: ;\n",
    "  skos:definition \"The kilogram or kilogramme (SI symbol: kg), also known as the kilo, is the base unit of mass in the International System of Units and is defined as being equal to the mass of the International Prototype Kilogram (IPK), which is almost exactly equal to the mass of one liter of water. The avoirdupois (or international) pound, used in both the Imperial system and U.S. customary units, is defined as exactly 0.45359237 kg, making one kilogram approximately equal to 2.2046 avoirdupois pounds.\"^^rdf:HTML ;\n",
    "  ns0:hasDimensionVector <http://qudt.org/vocab/dimensionvector/A0E0L0I0M1H0T0D0> ;\n",
    "  ns0:applicableSystem <http://qudt.org/vocab/sou/CGS>, <http://qudt.org/vocab/sou/SI>, <http://qudt.org/vocab/sou/CGS-GAUSS>, <http://qudt.org/vocab/sou/CGS-EMU> ;\n",
    "  skos:broader <https://vocab.sentier.dev/qudt/quantity-kind/Mass> .\n",
    "\n",
    "<https://vocab.sentier.dev/qudt/quantity-kind/Mass>\n",
    "  skos:prefLabel \"kütle\"@tr, \"tömeg\"@hu, \"جرم\"@fa, \"masă\"@ro, \"Μάζα\"@el, \"भार\"@hi, \"质量\"@zh, \"masa\"@sl, \"massa\"@pt, \"masa\"@pl, \"massa\"@la, \"質量\"@ja, \"מסה\"@he, \"Маса\"@bg, \"masa\"@es, \"كتلة\"@ar, \"massa\"@it, \"Masse\"@de, \"Mass\"@en, \"Масса\"@ru, \"Jisim\"@ms, \"Hmotnost\"@cs, \"masse\"@fr ;\n",
    "  skos:narrower <https://vocab.sentier.dev/qudt/unit/KiloGM> ;\n",
    "  a skos:Concept ;\n",
    "  skos:narrowerTransitive <https://vocab.sentier.dev/qudt/unit/KiloGM> .\n",
    "```"
   ]
  },
  {
   "cell_type": "markdown",
   "id": "6b290864-0e65-479f-830c-6d88f3948862",
   "metadata": {},
   "source": [
    "**Exercise**: Build an serialize a graph for hydrogen.\n",
    "\n",
    "* Create the concept hydrogen (not label!) as a URI\n",
    "* Give it a preferred label in at least two languages\n",
    "* Give it an alternative label\n",
    "* Find hydrogen in https://vocab.sentier.dev/products/en/ and create a link to that URI\n",
    "* Find hydrogen in ChEBI and create a link to that URI\n",
    "* Find hydrogen in Wikipedia and create a link to that URI\n",
    "* Find hydrogen in the Open Energy Ontology and create a link to that URI\n",
    "\n",
    "Then do the same thing with one of green/blue/grey/pink/yellow hydrogen, and create a narrower or broader link between your colored hydrogen and the base hydrogen.\n",
    "\n",
    "Bonus points: Use `skosify.infer.skos_hierarchical` to get reciprocal relationships."
   ]
  },
  {
   "cell_type": "markdown",
   "id": "34394342-4237-4f25-9c7e-44e7888494af",
   "metadata": {},
   "source": [
    "## Filtering the graph\n",
    "\n",
    "The graph you have created is filled with subject/predicate/object triples. You can [iterate over the graph](https://rdflib.readthedocs.io/en/stable/intro_to_graphs.html#graphs-as-iterators) and return data with the `.triples()` method. You would almost always use [some type of filter](https://rdflib.readthedocs.io/en/stable/intro_to_graphs.html#basic-triple-matching); the simplest is to return all data:"
   ]
  },
  {
   "cell_type": "code",
   "execution_count": 6,
   "id": "276d9ac9-06d5-4c33-ad56-9bb513a0d4d4",
   "metadata": {},
   "outputs": [
    {
     "name": "stdout",
     "output_type": "stream",
     "text": [
      "http://www.example.com/concepts#love http://www.w3.org/1999/02/22-rdf-syntax-ns#type http://www.w3.org/2004/02/skos/core#Concept\n"
     ]
    }
   ],
   "source": [
    "for s, p, o in feelings.triples((None, None, None)):\n",
    "    print(s, p, o)"
   ]
  },
  {
   "cell_type": "markdown",
   "id": "693e0def-4ff2-456a-9101-2dac3c5732da",
   "metadata": {},
   "source": [
    "Filters are just the value you are looking for; to do something more complicated (like \"subject starts with the letter \"l\") you need to do stuff client-side, or learn to write sparql and use that to query the graph."
   ]
  },
  {
   "cell_type": "code",
   "execution_count": 7,
   "id": "5a9b872f-6361-4c35-9170-f9d4e5b01989",
   "metadata": {},
   "outputs": [
    {
     "name": "stdout",
     "output_type": "stream",
     "text": [
      "http://www.example.com/concepts#love\n"
     ]
    }
   ],
   "source": [
    "for s, p, o in feelings.triples((None, None, SKOS.Concept)):\n",
    "    print(s)"
   ]
  },
  {
   "cell_type": "markdown",
   "id": "4c35e553-3886-4ec4-b722-629eabfca7fb",
   "metadata": {},
   "source": [
    "**Exercise**: Query the hydrogen graph you created to print all the links of `SKOS.related` objects for hydrogen."
   ]
  },
  {
   "cell_type": "markdown",
   "id": "3338d4d3-0e1e-40b1-9af4-23f638a3690d",
   "metadata": {},
   "source": [
    "## Using our existing vocabulary\n",
    "\n",
    "We can retrieve triples and the graph from our existing vocab using `sentier_data_tools`:"
   ]
  },
  {
   "cell_type": "code",
   "execution_count": 8,
   "id": "b1d8c45c-1b65-412e-8c2b-8424ff45473a",
   "metadata": {},
   "outputs": [],
   "source": [
    "from sentier_data_tools import ProductIRI, UnitIRI"
   ]
  },
  {
   "cell_type": "code",
   "execution_count": 10,
   "id": "e544cea3-6293-46bb-9d86-0545d073aa60",
   "metadata": {},
   "outputs": [
    {
     "name": "stdout",
     "output_type": "stream",
     "text": [
      "\u001b[2m06:27:21\u001b[0m [\u001b[32m\u001b[1minfo     \u001b[0m] \u001b[1mRetrieved 5 triples from https://fuseki.d-d-s.ch/skosmos/query\u001b[0m\n"
     ]
    },
    {
     "data": {
      "text/plain": [
       "[(rdflib.term.URIRef('https://vocab.sentier.dev/qudt/unit/KiloGM'),\n",
       "  rdflib.term.URIRef('http://www.w3.org/1999/02/22-rdf-syntax-ns#type'),\n",
       "  rdflib.term.URIRef('http://www.w3.org/2004/02/skos/core#Concept')),\n",
       " (rdflib.term.URIRef('https://vocab.sentier.dev/qudt/unit/KiloGM'),\n",
       "  rdflib.term.URIRef('http://www.w3.org/2004/02/skos/core#prefLabel'),\n",
       "  rdflib.term.Literal('كيلوغرام', lang='ar')),\n",
       " (rdflib.term.URIRef('https://vocab.sentier.dev/qudt/unit/KiloGM'),\n",
       "  rdflib.term.URIRef('http://www.w3.org/2004/02/skos/core#prefLabel'),\n",
       "  rdflib.term.Literal('килограм', lang='bg')),\n",
       " (rdflib.term.URIRef('https://vocab.sentier.dev/qudt/unit/KiloGM'),\n",
       "  rdflib.term.URIRef('http://www.w3.org/2004/02/skos/core#prefLabel'),\n",
       "  rdflib.term.Literal('kilogram', lang='cs')),\n",
       " (rdflib.term.URIRef('https://vocab.sentier.dev/qudt/unit/KiloGM'),\n",
       "  rdflib.term.URIRef('http://www.w3.org/2004/02/skos/core#prefLabel'),\n",
       "  rdflib.term.Literal('Kilogramm', lang='de'))]"
      ]
     },
     "execution_count": 10,
     "metadata": {},
     "output_type": "execute_result"
    }
   ],
   "source": [
    "UnitIRI(\"https://vocab.sentier.dev/qudt/unit/KiloGM\").triples(limit=5)"
   ]
  },
  {
   "cell_type": "code",
   "execution_count": 11,
   "id": "8998f577-b348-4fe6-bc1e-c1f0e4f48a55",
   "metadata": {},
   "outputs": [
    {
     "name": "stdout",
     "output_type": "stream",
     "text": [
      "\u001b[2m06:28:02\u001b[0m [\u001b[32m\u001b[1minfo     \u001b[0m] \u001b[1mRetrieved 73 triples from https://fuseki.d-d-s.ch/skosmos/query\u001b[0m\n"
     ]
    },
    {
     "data": {
      "text/plain": [
       "<Graph identifier=N843a51f1777044ee97209e4ffad02310 (<class 'rdflib.graph.Graph'>)>"
      ]
     },
     "execution_count": 11,
     "metadata": {},
     "output_type": "execute_result"
    }
   ],
   "source": [
    "ProductIRI(\"http://data.europa.eu/xsp/cn2024/160557000080\").graph()"
   ]
  },
  {
   "cell_type": "markdown",
   "id": "01b0324f-cc76-4a81-aa30-7b02990ecd80",
   "metadata": {},
   "source": [
    "## Conclusions\n",
    "\n",
    "* Semantic web tech stack is still relatively difficult to use, and writing sparql queries can twist your mind in uncomfortable ways\n",
    "* Large institutions are committing to publishing semantic web vocabularies (see e.g. https://showvoc.op.europa.eu/#/datasets and https://www.fao.org/statistics/caliper/about/en)\n",
    "* Semantic web allows to build on existing vocabularies and taxonomies to supplement them or link them to our concepts and data\n",
    "* Semantic web' combination of strictness (with formally defined ontologies) and flexibility (with what you can add and express) is a powerful way to solve some fundamental LCA data problems."
   ]
  }
 ],
 "metadata": {
  "kernelspec": {
   "display_name": "Python [conda env:sentier]",
   "language": "python",
   "name": "conda-env-sentier-py"
  },
  "language_info": {
   "codemirror_mode": {
    "name": "ipython",
    "version": 3
   },
   "file_extension": ".py",
   "mimetype": "text/x-python",
   "name": "python",
   "nbconvert_exporter": "python",
   "pygments_lexer": "ipython3",
   "version": "3.12.7"
  }
 },
 "nbformat": 4,
 "nbformat_minor": 5
}
