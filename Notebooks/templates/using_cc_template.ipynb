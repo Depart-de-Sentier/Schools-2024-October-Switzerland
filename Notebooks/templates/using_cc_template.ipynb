{
 "cells": [
  {
   "cell_type": "markdown",
   "id": "12ba00e7-ae46-4a17-b76d-ae2e8b64d802",
   "metadata": {
    "slideshow": {
     "slide_type": "slide"
    },
    "tags": []
   },
   "source": [
    "# Using the python library template"
   ]
  },
  {
   "cell_type": "markdown",
   "id": "4d6b1052-0146-42a5-b2d0-31601914f920",
   "metadata": {
    "slideshow": {
     "slide_type": "slide"
    },
    "tags": []
   },
   "source": [
    "## What ?"
   ]
  },
  {
   "attachments": {},
   "cell_type": "markdown",
   "id": "379dd22f-3362-428c-8a77-36bf4411530f",
   "metadata": {
    "editable": false,
    "slideshow": {
     "slide_type": "subslide"
    },
    "tags": []
   },
   "source": [
    "[cookiecutter](https://cookiecutter.readthedocs.io/en/stable/README.html) is a python tool to create `python` packages (but not only) based on templates (a.k.a `cookiecutters`)"
   ]
  },
  {
   "cell_type": "markdown",
   "id": "fc0e18b6-6639-4c39-825a-e23f84bf0fe1",
   "metadata": {
    "slideshow": {
     "slide_type": ""
    },
    "tags": []
   },
   "source": [
    "[cookiecutter-brightwaylib](https://github.com/brightway-lca/cookiecutter-brightwaylib) is one such cookiecutter"
   ]
  },
  {
   "cell_type": "code",
   "execution_count": 4,
   "id": "ad1446e8-380a-482e-a707-404ea9cbce72",
   "metadata": {
    "editable": true,
    "jupyter": {
     "source_hidden": true
    },
    "slideshow": {
     "slide_type": "fragment"
    },
    "tags": []
   },
   "outputs": [
    {
     "data": {
      "text/html": [
       "<img src=\"pictures/pexels-pavel-danilyuk-6996251.jpg\" width=\"200\"/>"
      ],
      "text/plain": [
       "<IPython.core.display.Image object>"
      ]
     },
     "execution_count": 4,
     "metadata": {},
     "output_type": "execute_result"
    }
   ],
   "source": [
    "from IPython.display import Image\n",
    "Image(url='pictures/pexels-pavel-danilyuk-6996251.jpg', width=200)"
   ]
  },
  {
   "cell_type": "markdown",
   "id": "55df82b4-fae2-4c60-ab3d-68fdc31c5dd4",
   "metadata": {
    "editable": true,
    "slideshow": {
     "slide_type": "slide"
    },
    "tags": []
   },
   "source": [
    "### In action"
   ]
  },
  {
   "cell_type": "markdown",
   "id": "9bb9a640-dfad-4f11-abc5-f8c2902fd97b",
   "metadata": {
    "editable": true,
    "raw_mimetype": "",
    "slideshow": {
     "slide_type": "subslide"
    },
    "tags": []
   },
   "source": [
    "```\n",
    "mamba create -n project22 python=3 \n",
    "mamba activate project22\n",
    "mamba install cookiecutter\n",
    "```"
   ]
  },
  {
   "cell_type": "markdown",
   "id": "56d385de-3c80-41fe-89f0-3ef904a98615",
   "metadata": {
    "editable": true,
    "slideshow": {
     "slide_type": "subslide"
    },
    "tags": []
   },
   "source": [
    "[Usage from gh repo](https://cookiecutter.readthedocs.io/en/stable/usage.html#works-directly-with-git-and-hg-mercurial-repos-too)\n",
    "\n",
    " + `cookiecutter gh:cjolowicz/cookiecutter-hypermodern-python --checkout=2022.6.3`\n",
    " + `cookiecutter https://github.com/audreyfeldroy/cookiecutter-pypackage.git`"
   ]
  },
  {
   "cell_type": "markdown",
   "id": "aa26c38d-9404-4377-a5c9-bee0dfa631c3",
   "metadata": {
    "editable": true,
    "slideshow": {
     "slide_type": "subslide"
    },
    "tags": []
   },
   "source": [
    "### Features of `brightway-lca/cookiecutter-brightwaylib`\n",
    "\n",
    "+ version is managed in a single location: `__init__.py`-> `__version__` variable\n",
    "+ github actions to:\n",
    "  - run pytests\n",
    "  - publish to \"TestPypi\" and \"Pypi\"\n",
    "+ `pyproject.toml` based configuration\n",
    "+ package directory at the root of the repository"
   ]
  },
  {
   "cell_type": "markdown",
   "id": "7d4e3958-06be-461e-ad0f-d326fdb11ce2",
   "metadata": {
    "editable": false,
    "slideshow": {
     "slide_type": "slide"
    },
    "tags": []
   },
   "source": [
    "## Why ?"
   ]
  },
  {
   "cell_type": "markdown",
   "id": "73ff5879-f362-436c-8299-5ca7ac186806",
   "metadata": {
    "editable": false,
    "slideshow": {
     "slide_type": "subslide"
    },
    "tags": []
   },
   "source": [
    "+ using a common template allows to share knowledge\n",
    "+ easily adopt \"best practices\" or \"community practices\"\n",
    "+ reduce time/frustration on tedious tasks\n",
    "  - packaging\n",
    "  - publishing\n",
    "  - automatic testing\n",
    "  - tooling\n",
    "  - package configuration\n",
    "\n"
   ]
  },
  {
   "cell_type": "markdown",
   "id": "6c0dd8af-636a-4eb4-81f0-557d54c1e791",
   "metadata": {
    "editable": true,
    "slideshow": {
     "slide_type": "slide"
    },
    "tags": []
   },
   "source": [
    "## How ?"
   ]
  },
  {
   "cell_type": "markdown",
   "id": "8e92e12c-fbda-4fea-93f3-09cff2f42480",
   "metadata": {
    "editable": true,
    "slideshow": {
     "slide_type": "subslide"
    },
    "tags": []
   },
   "source": [
    "+ Use [cruft](https://github.com/cruft/cruft) instead of cookiecutter\n",
    "+ point cruft to the gh repo\n",
    "+ answer some basic questions\n",
    "+ voilà chef"
   ]
  }
 ],
 "metadata": {
  "kernelspec": {
   "display_name": "Python 3 (ipykernel)",
   "language": "python",
   "name": "python3"
  },
  "language_info": {
   "codemirror_mode": {
    "name": "ipython",
    "version": 3
   },
   "file_extension": ".py",
   "mimetype": "text/x-python",
   "name": "python",
   "nbconvert_exporter": "python",
   "pygments_lexer": "ipython3",
   "version": "3.12.7"
  }
 },
 "nbformat": 4,
 "nbformat_minor": 5
}
